{
 "cells": [
  {
   "cell_type": "markdown",
   "id": "d21af99d-5450-4982-b9bd-9125953eaa10",
   "metadata": {},
   "source": [
    "# Train Calc v2\n",
    "\n",
    "This is a set of classes for expressing track configuration, and allowing easy compariosns of speed improvements.\n",
    "\n",
    "This can be pared with speed calculations and cost estimates.\n",
    "\n",
    "Finally this can be run through an optimizer to output optimal improvements.\n",
    "\n"
   ]
  },
  {
   "cell_type": "code",
   "execution_count": 15,
   "id": "016065ad-7b5e-4663-bd7f-ef9fb736e009",
   "metadata": {
    "tags": []
   },
   "outputs": [],
   "source": [
    "class Point:\n",
    "    def __init__(self, lat, long):\n",
    "        self.lat, self.long = lat, long\n",
    "    def distance(self, p2):\n",
    "        #perform proper geo projection distance calc\n",
    "        pass\n",
    "    \n",
    "class TrackSegment:\n",
    "    \"\"\"\n",
    "    for initial psuedo code, I'm going to plumb in length instead of start and end points that will be wrong\n",
    "    start and end points aren't super important until I add in geo functionality\n",
    "    \"\"\"\n",
    "    def __init__(self, name=None, start=None, end=None, length=None):\n",
    "        if length is None:\n",
    "            assert isinstance(start, Point)\n",
    "            assert isinstance(end, Point)\n",
    "\n",
    "        #figure out how to handle this\n",
    "        self.start, self.end = start, end\n",
    "\n",
    "    @property\n",
    "    def distance(self):\n",
    "        return self.start.distance(self.end)\n",
    "    \n",
    "    @property\n",
    "    def capex(self):\n",
    "        return self.capex_per_km * self.distance\n",
    "\n",
    "    @property\n",
    "    def opex(self):\n",
    "        return self.opex_per_km * self.distance\n",
    "        \n",
    "    def calc_speed(self, operating_rules, train):\n",
    "        \"\"\"given the operating_rules and train specs, return the speed_limit for this segment  \"\"\"\n",
    "        pass\n",
    "    is_electric = True\n",
    "\n",
    "\n",
    "#some key points\n",
    "#all track segements and trains have a capex and opex\n",
    "#even if there are the existing track or rolling stock.\n",
    "#this makes calculations for alternatives very easy\n",
    "#it also probably allows automatic cost calcs for different track types"
   ]
  },
  {
   "cell_type": "code",
   "execution_count": 16,
   "id": "6aecabb5-00df-4a21-b0ea-913111b65021",
   "metadata": {
    "tags": []
   },
   "outputs": [],
   "source": [
    "# more segment types\n",
    "class ClassSlowZone(TrackSegment):\n",
    "    # this is mostly used to capture the cost of electrifying old segments\n",
    "    def __init__(self, max_speed, start=None, end=None, length=None, ):\n",
    "        if length is None:\n",
    "            assert isinstance(start, Point)\n",
    "            assert isinstance(end, Point)\n",
    "        self.max_speed = max_speed\n",
    "\n",
    "    capex_per_km =  50_000 # USD\n",
    "    opex_per_km  =   7_500 # USD\n",
    "    is_electric = True\n",
    "\n",
    "class Class3StraightDiesel(TrackSegment):\n",
    "    # this is mostly used to capture the cost of electrifying old segments\n",
    "    max_speed = 60 #km/h\n",
    "    capex_per_km =  50_000 # USD\n",
    "    opex_per_km  =   7_500 # USD\n",
    "    is_electric = False\n",
    "\n",
    "class Class3Straight(TrackSegment):\n",
    "    max_speed = 60 #km/h\n",
    "    capex_per_km = 100_000 # USD\n",
    "    opex_per_km  =   7_500 # USD\n",
    "\n",
    "class Class4Straight(TrackSegment):\n",
    "    max_speed = 100 #km/h\n",
    "    capex_per_km = 150_000 # USD\n",
    "    opex_per_km  =   8_500 # USD\n",
    "\n",
    "class Class5Straight(TrackSegment):\n",
    "    max_speed = 150 #km/h\n",
    "    capex_per_km = 200_000 # USD\n",
    "    opex_per_km  =  12_500 # USD\n",
    "\n",
    "class Class6Straight(TrackSegment):\n",
    "    max_speed = 200 #km/h\n",
    "    capex_per_km = 275_000 # USD\n",
    "    opex_per_km  =  20_500 # USD"
   ]
  },
  {
   "cell_type": "code",
   "execution_count": 17,
   "id": "10802a02-2f59-4c5a-bd57-0af97f5b7267",
   "metadata": {
    "tags": []
   },
   "outputs": [],
   "source": [
    "#turns\n",
    "class BasicTurn(TrackSegment):\n",
    "    \n",
    "    def __init__(self, start, end, radius, super_elevation):\n",
    "        self.start, self.end = start, end\n",
    "        self.radius, self.super_elevation = radius, super_elevation\n",
    "\n",
    "    def distance(self):\n",
    "        #distance need to be calculated differently because this is  a curve\n",
    "        pass\n",
    "    \n",
    "    max_super_elevation = 100 # mm\n",
    "    capex_per_km = 120_000 # USD\n",
    "    opex_per_km  =  10_000 # USD\n",
    "\n",
    "class MaintainedTurn(BasicTurn):\n",
    "    \"\"\"\n",
    "    Represents a balasted turn that can take a higher super elevation, at the cost of higher opex\n",
    "    this is used to represent the higher opex of greater super elevation\n",
    "    \"\"\"\n",
    "    max_super_elevation = 150 # mm\n",
    "    capex_per_km = 120_000    # USD\n",
    "    opex_per_km  =  15_000    # USD\n",
    "\n",
    "\n",
    "class ConcreteTurn(BasicTurn):\n",
    "    \"\"\"\n",
    "    Represents a concrete bedded turn, expensive to build, cheap to maintain because track geometry should remain constant\n",
    "    \"\"\"\n",
    "    max_super_elevation = 180 # mm\n",
    "    capex_per_km = 220_000    # USD\n",
    "    opex_per_km  =   5_000    # USD"
   ]
  },
  {
   "cell_type": "code",
   "execution_count": 21,
   "id": "62d410c0-1ec2-4b96-a5a5-97d45e904c58",
   "metadata": {
    "tags": []
   },
   "outputs": [],
   "source": [
    "#switches\n",
    "class Switch(TrackSegment):\n",
    "    #based on a No6 switch\n",
    "    \"\"\"\n",
    "    it's easier to think of these as at a single point, having no length.\n",
    "    for larger switches this may become a problem\n",
    "    We could add a check that the distance between start and stop falls in a range\n",
    "    \"\"\"\n",
    "    def __init__(self):\n",
    "        #no need for init parameters right now\n",
    "        pass\n",
    "\n",
    "    #note that we are just overriding capex and opex, not calculating them based on length\n",
    "    capex =  25_000 # USD\n",
    "    opex =    3_000 # USD\n",
    "    max_speed =  30 #km \n",
    "\n",
    "class Switch8(Switch):\n",
    "    capex =  55_000 # USD\n",
    "    opex =    5_000 # USD\n",
    "    max_speed =  60 #km \n",
    "    \n",
    "class Switch12(Switch):\n",
    "    capex =  250_000 # USD\n",
    "    opex =    15_000 # USD\n",
    "    max_speed =  130 # km "
   ]
  },
  {
   "cell_type": "code",
   "execution_count": 22,
   "id": "adaf0822-dec7-4685-9795-840f4d4ba6c1",
   "metadata": {
    "tags": []
   },
   "outputs": [],
   "source": [
    "class Station:\n",
    "    def __init__(self, name, location):\n",
    "        self.location = location #Point\n",
    "    low_platforms = False\n",
    "\n",
    "class SchedulePadding:\n",
    "    #must adjoin a station\n",
    "    def __init__(self, minutes=0):\n",
    "        self.minutes = minutes"
   ]
  },
  {
   "cell_type": "markdown",
   "id": "0239016b-ac5c-4d3f-aba1-98738fc350d2",
   "metadata": {},
   "source": [
    "# Example Segments"
   ]
  },
  {
   "cell_type": "code",
   "execution_count": 25,
   "id": "a1a3bc12-b315-4b2f-b6ee-f4f1ce7df832",
   "metadata": {
    "tags": []
   },
   "outputs": [],
   "source": [
    "GC_TO_125th = [\n",
    "    Station(\"GrandCentral\", \"MidtownEast\"),\n",
    "    Class3Straight(\"throat\", length=.1),\n",
    "    [Switch(), Switch8(), Switch12()],\n",
    "    [Switch(), Switch8(), Switch12()],\n",
    "    [ClassSlowZone(30, length=1), Class3Straight(length=1)],\n",
    "    Class4Straight(length=4),\n",
    "    Station(\"125th St\", \"Harlem\")]"
   ]
  },
  {
   "cell_type": "markdown",
   "id": "90dead3c-91e3-4fd4-a442-a71fcae7ef03",
   "metadata": {},
   "source": [
    "# Trains and operating rules"
   ]
  },
  {
   "cell_type": "code",
   "execution_count": 27,
   "id": "2e2be378-7333-4726-972f-3d105f8cb40f",
   "metadata": {
    "tags": []
   },
   "outputs": [],
   "source": [
    "class TrainSet:  #Diesel\n",
    "    power_weight = 15\n",
    "    initial_accel = 0.2\n",
    "    max_speed_km = 100\n",
    "\n",
    "    constant_resistance  = 0.005_9 #a\n",
    "    linear_resistance    = 0.000_118 # b\n",
    "    quadratic_resistance = 0.00_0022 # c\n",
    "    \n",
    "    weight = 200_000 #not sure if this can be used for maitnenance calcs\n",
    "    \n",
    "    is_electric = False\n",
    "    has_low_floor = False\n",
    "    passengers = 800\n",
    "\n",
    "    capex_cost = 60_000_000\n",
    "    opex_per_km = 6\n",
    "\n",
    "    mdbf = 3000  #mean distance between failures\n",
    "\n",
    "class OperatingRules:\n",
    "    \"\"\"\n",
    "    The set of conditions that are dictated by transit agency\n",
    "    \"\"\"\n",
    "    def __init__(self, max_lateral_acceleration, max_super_elevation, max_cant_deficiency):\n",
    "        self.max_lateral_acceleration = max_lateral_acceleration\n",
    "        self.max_super_elevation = max_super_elevation\n",
    "        self.max_cant_deficieny = max_cant_deficiency\n"
   ]
  },
  {
   "cell_type": "markdown",
   "id": "4c1d76c4-24e8-4e69-90e5-ad7e92bdbc77",
   "metadata": {},
   "source": [
    "# Pruning variations\n",
    "Some variations are non workable (low platform trains with hgihg platform stations), some are nonsensical (specifiying expensive super elevation in excess of operating rules)\n",
    "the pruning functions remove track segments from possibilities that are unworkable.  This reduces the number of track combinations that must be tried."
   ]
  },
  {
   "cell_type": "code",
   "execution_count": 44,
   "id": "d72b041a-796a-4ac7-a409-d33b9ce0c869",
   "metadata": {
    "tags": []
   },
   "outputs": [],
   "source": [
    "class SectionPlan:\n",
    "    \"\"\"Represents a concrete set of track segments, train and operating rules \n",
    "    \n",
    "    Only valid sections should be insantiated no segment should be diesel required with an electric train\n",
    "    \"\"\"\n",
    "    def __init__(self, segments, operating_rules, train):\n",
    "        self.segments, self.operating_rules, self.train = segments, operating_rules, train\n",
    "    \n",
    "    @property\n",
    "    def track_opex(self):\n",
    "        return sum([t.opex for t in self.segments])\n",
    "    \n",
    "    @property\n",
    "    def length(self):\n",
    "        return sum([t.distance for t in self.segments])\n",
    "    \n",
    "    @property\n",
    "    def section_trip_opex(self):\n",
    "        \"\"\" Cost to run each train through the full section \"\"\"\n",
    "        return self.length * self.train.opex_per_km\n",
    "\n",
    "    @property \n",
    "    def speed_zones(self):\n",
    "        \"\"\"\n",
    "        return list of \n",
    "        (km_from_start, speed_limit)\n",
    "        \"\"\"\n",
    "        #take into account max speed of train, cant deficiency\n",
    "        pass\n",
    "    \n",
    "    @property\n",
    "    def segment_times(self):\n",
    "        \"\"\"return list of tuples of form\n",
    "            (\"segment_name\", \"time at enter segment\")\n",
    "        \"\"\"\n",
    "        # use self.speed_zones\n",
    "        #this is the best candidate for vectorization with numpy\n",
    "        pass    "
   ]
  },
  {
   "cell_type": "code",
   "execution_count": 45,
   "id": "5c4d6f64-597c-438c-a7b6-7c3706f5b7b9",
   "metadata": {
    "tags": []
   },
   "outputs": [],
   "source": [
    "def filter_possibilities(segment_options, operating_rules, train):\n",
    "    \"\"\"\n",
    "    simplest possible filtering,\n",
    "    expand with other specific business rules\n",
    "    \"\"\"\n",
    "    if not isinstance(segment_options, list):\n",
    "        return segmen_options\n",
    "    ret_options = []\n",
    "    for o in segment_options:\n",
    "        if train.is_electric:\n",
    "            if o.is_electric:\n",
    "                ret_options.append(o)\n",
    "        else:\n",
    "            ret_options.append(o)\n",
    "    return ret_options"
   ]
  },
  {
   "cell_type": "code",
   "execution_count": 46,
   "id": "6eb25ca5-95c2-4672-a919-4ff7046a94e7",
   "metadata": {
    "tags": []
   },
   "outputs": [],
   "source": [
    "def prune_possibilities(possible_segments, operating_rules, train):\n",
    "    pruned_segments = [filter_possibilities(s, operating_rules, train) for s in possible_segments]\n",
    "    return pruned_segments"
   ]
  },
  {
   "cell_type": "code",
   "execution_count": 40,
   "id": "606636f8-c17c-4d9c-b3f4-5a18445dd60d",
   "metadata": {
    "tags": []
   },
   "outputs": [],
   "source": [
    "def flatten_segment_possibilities(possible_segments):\n",
    "    existing_paths = [[]]\n",
    "    for i, s in enumerate(possible_segments):\n",
    "        if isinstance(s, list):\n",
    "            new_ep = []\n",
    "            for sub_s in s:\n",
    "                for ep in existing_paths:\n",
    "                    ab = ep.copy()\n",
    "                    ab.append(sub_s)\n",
    "                    new_ep.append(ab)\n",
    "            existing_paths = new_ep\n",
    "        else:\n",
    "            [p.append(s) for p in existing_paths]\n",
    "    return existing_paths"
   ]
  },
  {
   "cell_type": "code",
   "execution_count": 43,
   "id": "153d86cd-3dd3-4094-8ed4-879c94b34fbc",
   "metadata": {
    "tags": []
   },
   "outputs": [
    {
     "data": {
      "text/plain": [
       "[[1, 2, 'a', True, 'END'],\n",
       " [1, 2, 'b', True, 'END'],\n",
       " [1, 2, 'a', False, 'END'],\n",
       " [1, 2, 'b', False, 'END']]"
      ]
     },
     "execution_count": 43,
     "metadata": {},
     "output_type": "execute_result"
    }
   ],
   "source": [
    "flt = flatten_segment_possibilities([1,2, ['a', 'b'], [True, False], 'END'])\n",
    "# 1 * 1 * 2 * 2 * 1 == 4\n",
    "assert(len(flt) == 4)\n",
    "#each path should have 5 elements\n",
    "assert(len(flt[0]) == 5)\n",
    "flt"
   ]
  },
  {
   "cell_type": "code",
   "execution_count": 47,
   "id": "9bb62b2e-90dc-4826-bb25-d89f474de93f",
   "metadata": {
    "tags": []
   },
   "outputs": [],
   "source": [
    "def produce_plans(possible_segments, rules, train):\n",
    "    return [SectionPlan(segs, rules, train) for segs in flatten_segment_possibilities(possible_segments)]\n",
    "    \n",
    "def produce_combinations(possible_segments, possible_operating_rules, possible_trains):\n",
    "    all_plans = []\n",
    "    for o in possible_operating_rules:\n",
    "        for t in possible_trains:\n",
    "            pruned = prune_possibilities(possible_segments, o, t)\n",
    "            all_plans.extend(produce_plans(pruned, o, t))\n",
    "    return all_plans"
   ]
  },
  {
   "cell_type": "markdown",
   "id": "d3bb0643-e4b2-4565-9afe-3de13f814fce",
   "metadata": {},
   "source": [
    "# Example Trains"
   ]
  },
  {
   "cell_type": "code",
   "execution_count": null,
   "id": "cf7a8be4-6be9-47e9-b6ba-f1a74b4cbfd9",
   "metadata": {},
   "outputs": [],
   "source": []
  },
  {
   "cell_type": "code",
   "execution_count": 8,
   "id": "93ffe39b-3e96-4f47-94cd-b8a706aa151b",
   "metadata": {
    "tags": []
   },
   "outputs": [],
   "source": [
    "class TrainSet:  #Diesel\n",
    "    power_weight = 15\n",
    "    initial_accel = 0.2\n",
    "    max_speed_km = 100\n",
    "\n",
    "    constant_resistance  = 0.005_9 #a\n",
    "    linear_resistance    = 0.000_118 # b\n",
    "    quadratic_resistance = 0.00_0022 # c\n",
    "    \n",
    "    weight = 200_000 #not sure if this can be used for maitnenance calcs\n",
    "    \n",
    "    is_electric = False\n",
    "    has_low_floor = False\n",
    "    passengers = 800\n",
    "\n",
    "    capex_cost = 60_000_000\n",
    "    op_ex_per_km = 6\n",
    "\n",
    "    mdbf = 3000  #mean distance between failures\n",
    "    \n",
    "class ElectricTrainSet:\n",
    "    # TrainGeneric\n",
    "    power_weight = 20\n",
    "    initial_accel = 0.5\n",
    "    max_speed_km = 120\n",
    "    \n",
    "    constant_resistance  = 0.005_9 #a\n",
    "    linear_resistance    = 0.000_118 # b\n",
    "    quadratic_resistance = 0.00_0022 # c\n",
    "    \n",
    "    weight = 200_000 #not sure if this can be used for maitnenance calcs\n",
    "    \n",
    "    is_electric = True\n",
    "    has_low_floor = False\n",
    "    passengers = 800\n",
    "\n",
    "    capex_cost = 100_000_000\n",
    "    op_ex_per_km = 4 \n",
    "\n",
    "    mdbf = 30000  #mean distance between failures\n",
    "\n",
    "\n",
    "class TrainSetN700:\n",
    "    power_weight = 26.74 #k\n",
    "    initial_accel = 0.9 #m\n",
    "    max_speed_km = 300\n",
    "    \n",
    "    constant_resistance = 0.0059 #a\n",
    "    linear_resistance = 0.000118 # b\n",
    "    quadratic_resistance = 0.000022 # c\n",
    "    \n",
    "    passengers = 700\n",
    "    \n",
    "    is_electric = True\n",
    "    has_low_floor = False\n",
    "    passengers = 800\n",
    "    \n",
    "    capex_cost = 300_000_000\n",
    "    op_ex_per_km = 6\n",
    "\n",
    "    mdbf = 30000  #mean distance between failures\n",
    "#future notes\n",
    "#Schedule Padding and mdbf can be put in the optimizer to optimize for ontime %\n",
    "# not sure what other types of variations could be added to deal with  schedule padding parameters\n",
    "    "
   ]
  },
  {
   "cell_type": "code",
   "execution_count": 29,
   "id": "d41af74f-a361-4e57-bbe1-95550d49c8fa",
   "metadata": {
    "tags": []
   },
   "outputs": [
    {
     "name": "stdout",
     "output_type": "stream",
     "text": [
      "total 56\n",
      " 0 drwxr-xr-x  54 paddy  staff   1.7K Nov  1 09:26 \u001b[34m..\u001b[m\u001b[m\n",
      "24 -rw-r--r--   1 paddy  staff    11K Nov  1 09:27 Trains-alon.ipynb\n",
      " 0 drwxr-xr-x  12 paddy  staff   384B Nov  1 09:27 \u001b[34m.git\u001b[m\u001b[m\n",
      " 0 drwxr-xr-x   3 paddy  staff    96B Nov  1 10:51 \u001b[34m.ipynb_checkpoints\u001b[m\u001b[m\n",
      "32 -rw-r--r--   1 paddy  staff    16K Nov  1 13:23 Segment-generator.ipynb\n",
      " 0 drwxr-xr-x   6 paddy  staff   192B Nov  1 13:23 \u001b[34m.\u001b[m\u001b[m\n"
     ]
    }
   ],
   "source": [
    "!ls -lahstr"
   ]
  }
 ],
 "metadata": {
  "kernelspec": {
   "display_name": "Python 3 (ipykernel)",
   "language": "python",
   "name": "python3"
  },
  "language_info": {
   "codemirror_mode": {
    "name": "ipython",
    "version": 3
   },
   "file_extension": ".py",
   "mimetype": "text/x-python",
   "name": "python",
   "nbconvert_exporter": "python",
   "pygments_lexer": "ipython3",
   "version": "3.11.5"
  },
  "widgets": {
   "application/vnd.jupyter.widget-state+json": {
    "state": {},
    "version_major": 2,
    "version_minor": 0
   }
  }
 },
 "nbformat": 4,
 "nbformat_minor": 5
}
