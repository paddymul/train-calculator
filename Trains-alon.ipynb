{
 "cells": [
  {
   "cell_type": "markdown",
   "id": "3c7f445d-121f-4ac6-a32d-fc6ef07f2013",
   "metadata": {},
   "source": [
    "# Train trip time calculator\n",
    "Originally writtend by Alon Levy, refined by Paddy Mullen"
   ]
  },
  {
   "cell_type": "code",
   "execution_count": 1,
   "id": "52f92fa3-4cc5-4f0a-aee7-d49d557a92a6",
   "metadata": {
    "tags": []
   },
   "outputs": [],
   "source": [
    "def integratel(f,a,b,n):\n",
    "    \"\"\"  integration function \"\"\"\n",
    "    a1 = float(a)\n",
    "    b1 = float(b)\n",
    "    y = 0\n",
    "    for i in range(0,n):\n",
    "        y = y + f(a1 + (b1-a1)*i/n)\n",
    "    return y*(b1-a1)/n\n",
    "\n",
    "def acctfn(k,a,b,c,m):\n",
    "    return lambda x : max(x/(k - a*x - b*x**2 - c*x**3), 1/m)\n",
    "\n",
    "def dectfn(k,a,b,c,m):\n",
    "    return lambda x : max(x/(k + a*x + b*x**2 + c*x**3), 1/m)\n",
    "\n",
    "def accdfn(k,a,b,c,m):\n",
    "    return lambda x : max((x**2)/(k - a*x - b*x**2 - c*x**3), x/m)\n",
    "\n",
    "def decdfn(k,a,b,c,m):\n",
    "    return lambda x : max((x**2)/(k + a*x + b*x**2 + c*x**3), x/m)\n",
    "\n",
    "def acctime(k,a,b,c,m,x1,x2,n):\n",
    "    if x1 <= x2:\n",
    "        return integratel(acctfn(k,a,b,c,m),x1,x2,n)\n",
    "    else:\n",
    "        return integratel(acctfn(k,a,b,c,m),x2,x1,n)\n",
    "\n",
    "def dectime(k,a,b,c,m,x1,x2,n):\n",
    "    \"\"\" deceleration time \"\"\"\n",
    "    if x1 <= x2:\n",
    "        return integratel(dectfn(k,a,b,c,m),x1,x2,n)\n",
    "    else:\n",
    "        return integratel(dectfn(k,a,b,c,m),x2,x1,n)\n",
    "    \n",
    "def accdist(k,a,b,c,m,x1,x2,n):\n",
    "    \"\"\"accelleration dist \"\"\"\n",
    "    if x1 <= x2:\n",
    "        return integratel(accdfn(k,a,b,c,m),x1,x2,n)\n",
    "    else:\n",
    "        return integratel(accdfn(k,a,b,c,m),x2,x1,n)\n",
    "    \n",
    "def decdist(k,a,b,c,m,x1,x2,n):\n",
    "    \"\"\" decelleration distance \"\"\"\n",
    "    if x1 <= x2:\n",
    "        return integratel(decdfn(k,a,b,c,m),x1,x2,n)\n",
    "    else:\n",
    "        return integratel(decdfn(k,a,b,c,m),x2,x1,n)\n",
    "    \n",
    "def accpen(k,a,b,c,m,x1,x2,n):\n",
    "    \"\"\" acceleration penalty \"\"\"\n",
    "    return acctime(k,a,b,c,m,x1,x2,n) - accdist(k,a,b,c,m,x1,x2,n)/max(x1, x2)\n",
    "\n",
    "def decpen(k,a,b,c,m,x1,x2,n):\n",
    "    \"\"\" deceleration penalty \"\"\"\n",
    "    return dectime(k,a,b,c,m,x1,x2,n) - decdist(k,a,b,c,m,x1,x2,n)/max(x1, x2)\n",
    "\n",
    "def slowpen(k,a,b,c,m,x1,x2,n):\n",
    "    \"\"\" slow penalty \"\"\"\n",
    "    return accpen(k,a,b,c,m,x1,x2,n) + decpen(k,a,b,c,m,x1,x2,n)\n",
    "\n",
    "#orig\n",
    "def speedzone(k,a,b,c,m,u,v,n):\n",
    "    if len(u) - len(v) != 1:\n",
    "        return \"error, v must have length 1 less than u.\"\n",
    "    if min(v) <= 0:\n",
    "        return \"error, all speed zones must be positive.\"\n",
    "    r = []\n",
    "    r.append(0.5*slowpen(k,a,b,c,m,0,v[0],n))\n",
    "    for i in range(len(v)-1):\n",
    "        r.append(1000*(u[i+1]-u[i])/v[i])\n",
    "        r.append(0.5*slowpen(k,a,b,c,m,v[i],v[i+1],n))\n",
    "    r.append(1000*(u[len(v)]-u[len(v)-1])/v[len(v)-1])\n",
    "    r.append(0.5*slowpen(k,a,b,c,m,0,v[len(v)-1],n))\n",
    "    return r\n",
    "\n",
    "def speedzonek(k,a,b,c,m,u,v,n):\n",
    "    w = [i/3.6 for i in v]\n",
    "    return speedzone(k,a,b,c,m,u,w,n)"
   ]
  },
  {
   "cell_type": "code",
   "execution_count": 2,
   "id": "0c7e2b35-7a90-441c-9f5e-33589d59c0cf",
   "metadata": {
    "tags": []
   },
   "outputs": [],
   "source": [
    "#speedzone refactored\n",
    "def speedzone(k,a,b,c,m,u,v,n):\n",
    "    #u is km_points\n",
    "    #v is speedzones\n",
    "    assert v[-1] == 0 #speedzone last has a speed of 0\n",
    "    assert len(v) == len(u)\n",
    "\n",
    "    def local_slowpen(vel_0, vel_1):\n",
    "        return  0.5*slowpen(k,a,b,c,m,vel_0,vel_1,n)\n",
    "    def main_speed(km_0, km_1, vel):\n",
    "        return 1000 * (km_1 - km_0)/vel\n",
    "    \n",
    "    r = [local_slowpen(0,v[0])]    \n",
    "    for i in range(len(v)-1):        \n",
    "        current_vel, current_km = v[i], u[i]\n",
    "        next_vel, next_km = v[i+1], u[i+1]\n",
    "        r.append(main_speed(current_km, next_km, current_vel))\n",
    "        r.append(local_slowpen(current_vel, next_vel))\n",
    "    return r"
   ]
  },
  {
   "cell_type": "code",
   "execution_count": 3,
   "id": "389053ac-c06a-45e6-b210-5e0116b905f1",
   "metadata": {
    "tags": []
   },
   "outputs": [],
   "source": [
    "def calc_trip_time(train, segments):\n",
    "    km_points, velocities = zip(*segments)\n",
    "    updated_velocities = [min(train.max_speed_km, v) for v in velocities]\n",
    "    \n",
    "    times = speedzonek(\n",
    "        train.power_weight, #k\n",
    "        train.constant_resistance, #a\n",
    "        train.linear_resistance, #b\n",
    "        train.quadratic_resistance, #c\n",
    "        train.initial_accel, #m\n",
    "        km_points,\n",
    "        updated_velocities,\n",
    "        500)\n",
    "    return times"
   ]
  },
  {
   "cell_type": "code",
   "execution_count": 4,
   "id": "00a7c3e8-da7b-4289-8dce-752a814efa50",
   "metadata": {
    "tags": []
   },
   "outputs": [],
   "source": [
    "#Some simple classes to represent different types of trains\n",
    "class TrainN700:\n",
    "    power_weight = 26.74 #k\n",
    "    initial_accel = 0.9 #m\n",
    "    max_speed_km = 300\n",
    "    \n",
    "    constant_resistance = 0.0059 #a\n",
    "    linear_resistance = 0.000118 # b\n",
    "    quadratic_resistance = 0.000022 # c\n",
    "    \n",
    "class TrainGeneric:\n",
    "    power_weight = 20\n",
    "    initial_accel = 0.5\n",
    "    max_speed_km = 55\n",
    "\n",
    "    \n",
    "    constant_resistance = 0.0059 #a\n",
    "    linear_resistance = 0.000118 # b\n",
    "    quadratic_resistance = 0.000022 # c"
   ]
  },
  {
   "cell_type": "code",
   "execution_count": 5,
   "id": "7ed8aac2-2f4f-47ff-9eb4-0c2dea0ae381",
   "metadata": {
    "tags": []
   },
   "outputs": [
    {
     "name": "stdout",
     "output_type": "stream",
     "text": [
      "[1.546296296296262, 360.0, 6.4429012345677314, 300.0, 9.27777777777757]\n",
      "677.2669753086416\n"
     ]
    }
   ],
   "source": [
    "segments = [\n",
    "    #km-post, speed limit\n",
    "    (0, 10), #station, limited speed section\n",
    "    (1, 60), #start of park ave segment,\n",
    "    (6, 0)]  #125th street station, 0 speed because our segment ends here\n",
    "speeds = calc_trip_time(TrainN700, segments)\n",
    "print(speeds)\n",
    "print(sum(speeds))"
   ]
  },
  {
   "cell_type": "code",
   "execution_count": 6,
   "id": "35b8114a-daea-4b1c-ba35-364649d134e5",
   "metadata": {
    "tags": []
   },
   "outputs": [
    {
     "name": "stdout",
     "output_type": "stream",
     "text": [
      "[2.7833333333333337, 360.0, 10.24772727272729, 327.2727272727273, 15.308333333333334]\n",
      "715.6121212121212\n"
     ]
    }
   ],
   "source": [
    "#same segment with a generic train, max speed of 55\n",
    "speeds = calc_trip_time(TrainGeneric, segments)\n",
    "print(speeds)\n",
    "print(sum(speeds))"
   ]
  },
  {
   "cell_type": "code",
   "execution_count": 7,
   "id": "7e45a2b7-e5d4-42eb-bb38-01467339dcce",
   "metadata": {
    "tags": []
   },
   "outputs": [
    {
     "name": "stdout",
     "output_type": "stream",
     "text": [
      "[59.128869980665286, 60.0, 53.14987931473805, 180.0, 3.092592592592524]\n",
      "355.37134188799587\n"
     ]
    }
   ],
   "source": [
    "#300 km/h to km 5\n",
    "segments = [\n",
    "    #km-post, speed limit\n",
    "    (0, 300), #station, limited speed section\n",
    "    (5, 20), #start of park ave segment,\n",
    "    (6, 0)]  #125th street station, 0 speed because our segment ends here\n",
    "speeds = calc_trip_time(TrainN700, segments)\n",
    "print(speeds)\n",
    "print(sum(speeds))"
   ]
  },
  {
   "cell_type": "code",
   "execution_count": 8,
   "id": "f9ea7ffc-edd8-4c09-af25-8bff9f3fc7ec",
   "metadata": {
    "tags": []
   },
   "outputs": [
    {
     "name": "stdout",
     "output_type": "stream",
     "text": [
      "[59.128869980665286, 12.0, 0.0, 48.0, 53.14987931473805, 180.0, 3.092592592592524]\n",
      "355.37134188799587\n"
     ]
    }
   ],
   "source": [
    "#300 km/h to km 5\n",
    "segments = [\n",
    "    #km-post, speed limit\n",
    "    (0, 300), #station, limited speed section\n",
    "    (1, 300), #start of park ave segment,\n",
    "    (5, 20), #start of park ave segment,\n",
    "    (6, 0)]  #125th street station, 0 speed because our segment ends here\n",
    "speeds = calc_trip_time(TrainN700, segments)\n",
    "print(speeds)\n",
    "print(sum(speeds))"
   ]
  },
  {
   "cell_type": "markdown",
   "id": "cc101eae-c5df-402a-abb8-758c68fb1afd",
   "metadata": {},
   "source": [
    "# Calc check\n",
    "Note that above cell has 4 segments, but since the speed limit is the same for two consecutive segments, the total time should remain constant... which it does"
   ]
  },
  {
   "cell_type": "code",
   "execution_count": 9,
   "id": "5b21e82a-7938-4f52-8573-908cbd63feb3",
   "metadata": {
    "tags": []
   },
   "outputs": [
    {
     "name": "stdout",
     "output_type": "stream",
     "text": [
      "[15.308333333333334, 65.45454545454545, 0.0, 261.8181818181818, 6.1992424242424224, 180.0, 5.566666666666667]\n",
      "534.3469696969697\n"
     ]
    }
   ],
   "source": [
    "#even with the high speed, the TrainGeneric is speed limited\n",
    "speeds = calc_trip_time(TrainGeneric, segments)\n",
    "print(speeds)\n",
    "print(sum(speeds))"
   ]
  },
  {
   "cell_type": "code",
   "execution_count": 10,
   "id": "e620e5f7-0c14-4480-88b4-768622e162f1",
   "metadata": {
    "tags": []
   },
   "outputs": [
    {
     "name": "stdout",
     "output_type": "stream",
     "text": [
      "[59.128869980665286, 72.0, 59.128869980665286]\n",
      "190.25773996133057\n"
     ]
    }
   ],
   "source": [
    "#what if we make this 300 km/h right out of the gate\n",
    "#also does this code work with only two segments\n",
    "segments = [\n",
    "    #km-post, speed limit\n",
    "    (0, 300), #station, limited speed section\n",
    "    (6, 0)]  #125th street station, 0 speed because our segment ends here\n",
    "speeds = calc_trip_time(TrainN700, segments)\n",
    "print(speeds)\n",
    "print(sum(speeds))"
   ]
  },
  {
   "cell_type": "code",
   "execution_count": 11,
   "id": "5e5249c1-931e-432f-b3d1-ba39bbb0f864",
   "metadata": {
    "tags": []
   },
   "outputs": [],
   "source": [
    "! cat Trains-alon.ipynb | pbcopy"
   ]
  },
  {
   "cell_type": "code",
   "execution_count": null,
   "id": "736bd560-0e43-49ed-aaae-a856b6b50428",
   "metadata": {},
   "outputs": [],
   "source": []
  }
 ],
 "metadata": {
  "kernelspec": {
   "display_name": "Python 3 (ipykernel)",
   "language": "python",
   "name": "python3"
  },
  "language_info": {
   "codemirror_mode": {
    "name": "ipython",
    "version": 3
   },
   "file_extension": ".py",
   "mimetype": "text/x-python",
   "name": "python",
   "nbconvert_exporter": "python",
   "pygments_lexer": "ipython3",
   "version": "3.11.5"
  },
  "widgets": {
   "application/vnd.jupyter.widget-state+json": {
    "state": {},
    "version_major": 2,
    "version_minor": 0
   }
  }
 },
 "nbformat": 4,
 "nbformat_minor": 5
}
